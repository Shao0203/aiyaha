{
 "cells": [
  {
   "cell_type": "code",
   "execution_count": 1,
   "id": "bf2f240a-f64a-47ac-8ffc-519785b591a5",
   "metadata": {},
   "outputs": [],
   "source": [
    "import numpy as np\n",
    "import matplotlib.pyplot as plt\n",
    "from dataset.mnist import load_mnist"
   ]
  },
  {
   "cell_type": "markdown",
   "id": "7cc69b1d-afb7-4d07-bece-17a9db9dfbd5",
   "metadata": {},
   "source": [
    "#### 4.2.1 损失函数 loss function - 均方误差法 Mean Squared Error - MSE"
   ]
  },
  {
   "cell_type": "code",
   "execution_count": 2,
   "id": "9f147d39-a840-47f1-9080-0f7add0a1c1f",
   "metadata": {},
   "outputs": [],
   "source": [
    "def mean_squared_error(y, t):\n",
    "    return 0.5 * np.sum((y - t)**2)"
   ]
  },
  {
   "cell_type": "code",
   "execution_count": 22,
   "id": "3b5fa95d-a53b-407a-bdea-cbaba985d0cf",
   "metadata": {},
   "outputs": [
    {
     "name": "stdout",
     "output_type": "stream",
     "text": [
      "0.09750000000000003\n"
     ]
    }
   ],
   "source": [
    "t = [0, 0, 1, 0, 0, 0, 0, 0, 0, 0]\n",
    "t_label = [2]\n",
    "y = [0.1, 0.05, 0.6, 0.0, 0.05, 0.1, 0.0, 0.1, 0.0, 0.0]\n",
    "\n",
    "mse = mean_squared_error(np.array(y), np.array(t))\n",
    "print(mse)"
   ]
  },
  {
   "cell_type": "code",
   "execution_count": 21,
   "id": "2cd6d394-5f09-4d8b-8901-1a3df28c7131",
   "metadata": {},
   "outputs": [
    {
     "name": "stdout",
     "output_type": "stream",
     "text": [
      "0.5975\n"
     ]
    }
   ],
   "source": [
    "y2 = [0.1, 0.05, 0.1, 0.0, 0.05, 0.1, 0.0, 0.6, 0.0, 0.0]\n",
    "\n",
    "mse = mean_squared_error(np.array(y2), np.array(t))\n",
    "print(mse)"
   ]
  },
  {
   "cell_type": "markdown",
   "id": "68e5af11-198f-4a84-9f21-d424fe78ac3c",
   "metadata": {},
   "source": [
    "#### 4.2.2 交叉熵误差 （ cross entropy error ）"
   ]
  },
  {
   "cell_type": "code",
   "execution_count": 5,
   "id": "0c0b6f53-0609-45a1-86e3-26e3e7cd341b",
   "metadata": {},
   "outputs": [],
   "source": [
    "def cross_entropy_error(y, t):\n",
    "    delta = 1e-7\n",
    "    return -np.sum(t * np.log(y + delta))"
   ]
  },
  {
   "cell_type": "code",
   "execution_count": 6,
   "id": "d110c1ca-1b53-4352-bd21-adeeb9e98e89",
   "metadata": {},
   "outputs": [
    {
     "name": "stdout",
     "output_type": "stream",
     "text": [
      "2.3025850929940455\n",
      "0.6931471805599453\n",
      "0.10536051565782628\n"
     ]
    }
   ],
   "source": [
    "print(-np.log(0.1))\n",
    "print(-np.log(0.5))\n",
    "print(-np.log(0.9))"
   ]
  },
  {
   "cell_type": "code",
   "execution_count": 20,
   "id": "2419d47f-99ed-43bb-b4a0-787cd362c750",
   "metadata": {},
   "outputs": [
    {
     "name": "stdout",
     "output_type": "stream",
     "text": [
      "0.510825457099338\n",
      "2.302584092994546\n"
     ]
    }
   ],
   "source": [
    "print(cross_entropy_error(np.array(y), np.array(t)))\n",
    "print(cross_entropy_error(np.array(y2), np.array(t)))"
   ]
  },
  {
   "cell_type": "markdown",
   "id": "bcc15ec5-f573-4efa-94ce-417b5ded308a",
   "metadata": {},
   "source": [
    "#### 4.2.3 mini-batch 学习"
   ]
  },
  {
   "cell_type": "code",
   "execution_count": 9,
   "id": "e62f4aa8-1814-45fb-80bb-ec6c25e384ab",
   "metadata": {},
   "outputs": [
    {
     "name": "stdout",
     "output_type": "stream",
     "text": [
      "(60000, 784)\n",
      "(60000, 10)\n"
     ]
    }
   ],
   "source": [
    "(x_train, t_train), (x_test, t_test) = load_mnist(normalize=True, one_hot_label=True)\n",
    "print(x_train.shape)\n",
    "print(t_train.shape)"
   ]
  },
  {
   "cell_type": "code",
   "execution_count": 11,
   "id": "ce3a02d8-6786-410c-9ec6-bed1f67218ce",
   "metadata": {},
   "outputs": [
    {
     "name": "stdout",
     "output_type": "stream",
     "text": [
      "[30174 32451 40613 53749 16259 17098  9847 39717 30692  5291]\n",
      "[[0. 0. 0. ... 0. 0. 0.]\n",
      " [0. 0. 0. ... 0. 0. 0.]\n",
      " [0. 0. 0. ... 0. 0. 0.]\n",
      " ...\n",
      " [0. 0. 0. ... 0. 0. 0.]\n",
      " [0. 0. 0. ... 0. 0. 0.]\n",
      " [0. 0. 0. ... 0. 0. 0.]]\n",
      "[[0. 0. 0. 0. 1. 0. 0. 0. 0. 0.]\n",
      " [0. 0. 0. 0. 0. 0. 0. 0. 0. 1.]\n",
      " [1. 0. 0. 0. 0. 0. 0. 0. 0. 0.]\n",
      " [0. 0. 0. 1. 0. 0. 0. 0. 0. 0.]\n",
      " [0. 1. 0. 0. 0. 0. 0. 0. 0. 0.]\n",
      " [0. 0. 0. 0. 0. 0. 1. 0. 0. 0.]\n",
      " [0. 0. 0. 0. 0. 0. 0. 0. 1. 0.]\n",
      " [0. 1. 0. 0. 0. 0. 0. 0. 0. 0.]\n",
      " [0. 0. 0. 1. 0. 0. 0. 0. 0. 0.]\n",
      " [0. 0. 0. 0. 0. 0. 0. 1. 0. 0.]]\n"
     ]
    }
   ],
   "source": [
    "train_size = x_train.shape[0]\n",
    "batch_size = 10\n",
    "batch_mask = np.random.choice(train_size, batch_size)\n",
    "x_batch = x_train[batch_mask]\n",
    "t_batch = t_train[batch_mask]\n",
    "\n",
    "print(batch_mask)\n",
    "print(x_batch)\n",
    "print(t_batch)"
   ]
  },
  {
   "cell_type": "markdown",
   "id": "448eca95-c030-4b82-903b-a716af3f2d72",
   "metadata": {},
   "source": [
    "#### 4.2.4 mini-batch 版交叉熵误差的实现"
   ]
  },
  {
   "cell_type": "code",
   "execution_count": 12,
   "id": "ba6025ec-a1e2-4def-8cd0-b727524aad26",
   "metadata": {},
   "outputs": [],
   "source": [
    "def cross_entropy_error_one_hot(y, t):\n",
    "    if y.ndim == 1:\n",
    "        t = t.reshape(1, t.size)\n",
    "        y = y.reshape(1, y.size)\n",
    "\n",
    "    batch_size = y.shape[0]\n",
    "    return -np.sum(t * np.log(y + 1e-7)) / batch_size"
   ]
  },
  {
   "cell_type": "code",
   "execution_count": 16,
   "id": "39e3f981-7c15-4d49-98da-911e5432fd2a",
   "metadata": {},
   "outputs": [
    {
     "data": {
      "text/plain": [
       "np.float64(0.510825457099338)"
      ]
     },
     "execution_count": 16,
     "metadata": {},
     "output_type": "execute_result"
    }
   ],
   "source": [
    "cross_entropy_error_one_hot(np.array(y), np.array(t))"
   ]
  },
  {
   "cell_type": "code",
   "execution_count": 25,
   "id": "8d20c841-821b-4e7f-9691-da9efab7fabb",
   "metadata": {},
   "outputs": [],
   "source": [
    "def cross_entropy_error_label(y, t):\n",
    "    if y.ndim == 1:\n",
    "        t = t.reshape(1, t.size)\n",
    "        y = y.reshape(1, y.size)\n",
    "\n",
    "    batch_size = y.shape[0]\n",
    "    return -np.sum(np.log(y[np.arange(batch_size), t] + 1e-7)) / batch_size"
   ]
  },
  {
   "cell_type": "code",
   "execution_count": 27,
   "id": "7ce14c6e-0c52-49f0-a584-024f1f21fdcf",
   "metadata": {},
   "outputs": [
    {
     "data": {
      "text/plain": [
       "np.float64(0.510825457099338)"
      ]
     },
     "execution_count": 27,
     "metadata": {},
     "output_type": "execute_result"
    }
   ],
   "source": [
    "cross_entropy_error_label(np.array(y), np.array(t_label))"
   ]
  },
  {
   "cell_type": "markdown",
   "id": "ecb13296-aa20-49fe-b2c3-6398eeacee14",
   "metadata": {},
   "source": [
    "#### !!解释上面最后一行代码：监督数据是标签形式（非 one-hot 表示，而是像“2”“7”这样的标签）"
   ]
  },
  {
   "cell_type": "code",
   "execution_count": 64,
   "id": "ef6bd46e-8bac-4548-8f24-2a51b69f5a9a",
   "metadata": {},
   "outputs": [
    {
     "name": "stdout",
     "output_type": "stream",
     "text": [
      "样本索引: [0 1 2]\n",
      "真实标签: [2 0 3]\n",
      "选中的概率: [0.6 0.7 0.5]\n",
      "0.5202157462469678\n",
      "0.5202157462469678\n"
     ]
    }
   ],
   "source": [
    "# 首先强调下，这是numpy数组的专属操作，普通列表[[1,2], [3,4], ...]无法如此操作\n",
    "yy = np.array([\n",
    "    [0.1, 0.2, 0.6, 0.05, 0.05],  # 对类别2预测概率0.6\n",
    "    [0.7, 0.1, 0.1, 0.05, 0.05],  # 对类别0预测概率0.7\n",
    "    [0.1, 0.1, 0.2, 0.5, 0.1]     # 对类别3预测概率0.5\n",
    "])\n",
    "t_one_hot = np.array([\n",
    "    [0, 0, 1, 0, 0],  # 标签2\n",
    "    [1, 0, 0, 0, 0],  # 标签0\n",
    "    [0, 0, 0, 1, 0]   # 标签3\n",
    "])\n",
    "t_labels = np.array([2, 0, 3])  # 同样的数据，用标签形式表示，直接存储正确类别的索引\n",
    "\n",
    "batch_size = yy.shape[0]\n",
    "indices = np.arange(batch_size)  # [0, 1, 2]\n",
    "print(\"样本索引:\", indices)      # [0, 1, 2]\n",
    "print(\"真实标签:\", t_labels)     # [2, 0, 3]\n",
    "\n",
    "selected_probs = yy[indices, t_labels]\n",
    "print(\"选中的概率:\", selected_probs)  # [0.6, 0.7, 0.5]\n",
    "# 相当于：\n",
    "# y[0, 2] → 第0个样本，第2个类别的概率 = 0.6\n",
    "# y[1, 0] → 第1个样本，第0个类别的概率 = 0.7\n",
    "# y[2, 3] → 第2个样本，第3个类别的概率 = 0.5\n",
    "\n",
    "\n",
    "def cross_entropy_one_hot(y, t):\n",
    "    return -np.sum(t * np.log(y + 1e-7)) / len(t)\n",
    "\n",
    "\n",
    "def cross_entropy_label(y, t):\n",
    "    batch_size = y.shape[0]\n",
    "    return -np.sum(np.log(y[np.arange(batch_size), t] + 1e-7)) / batch_size\n",
    "\n",
    "\n",
    "result1 = cross_entropy_one_hot(yy, t_one_hot)\n",
    "result2 = cross_entropy_label(yy, t_labels)\n",
    "print(result1)      # 0.5202157462469678\n",
    "print(result2)      # 0.5202157462469678"
   ]
  },
  {
   "cell_type": "code",
   "execution_count": null,
   "id": "c5052b12-5a83-4c6e-830e-835f7a7680ea",
   "metadata": {},
   "outputs": [],
   "source": []
  }
 ],
 "metadata": {
  "kernelspec": {
   "display_name": "Python 3 (ipykernel)",
   "language": "python",
   "name": "python3"
  },
  "language_info": {
   "codemirror_mode": {
    "name": "ipython",
    "version": 3
   },
   "file_extension": ".py",
   "mimetype": "text/x-python",
   "name": "python",
   "nbconvert_exporter": "python",
   "pygments_lexer": "ipython3",
   "version": "3.13.5"
  }
 },
 "nbformat": 4,
 "nbformat_minor": 5
}
