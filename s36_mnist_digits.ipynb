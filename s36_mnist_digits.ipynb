{
 "cells": [
  {
   "cell_type": "code",
   "execution_count": 1,
   "id": "16560961-4509-460d-9eb6-be7166a65d88",
   "metadata": {},
   "outputs": [],
   "source": [
    "import numpy as np\n",
    "import pickle\n",
    "import matplotlib.pyplot as plt\n",
    "from dataset.mnist import load_mnist"
   ]
  },
  {
   "cell_type": "code",
   "execution_count": 2,
   "id": "d7c4eb57-7835-40ce-8af1-ff0d2479c655",
   "metadata": {},
   "outputs": [],
   "source": [
    "(x_train, t_train), (x_test, t_test) = load_mnist(flatten=True, normalize=False)"
   ]
  },
  {
   "cell_type": "code",
   "execution_count": 3,
   "id": "9913fe57-0f18-461c-9033-e502cabbc5ef",
   "metadata": {},
   "outputs": [
    {
     "name": "stdout",
     "output_type": "stream",
     "text": [
      "(60000, 784)\n",
      "(60000,)\n",
      "(10000, 784)\n",
      "(10000,)\n"
     ]
    }
   ],
   "source": [
    "print(x_train.shape)\n",
    "print(t_train.shape)\n",
    "print(x_test.shape)\n",
    "print(t_test.shape)"
   ]
  },
  {
   "cell_type": "code",
   "execution_count": 4,
   "id": "978257bf-fbc5-44dd-9e62-0dfbea5eff12",
   "metadata": {},
   "outputs": [
    {
     "name": "stdout",
     "output_type": "stream",
     "text": [
      "5\n",
      "(784,)\n",
      "(28, 28)\n"
     ]
    }
   ],
   "source": [
    "# 显示训练图像的第一张\n",
    "from PIL import Image\n",
    "\n",
    "def img_show(img):\n",
    "    pil_img = Image.fromarray(np.uint8(img))\n",
    "    pil_img.show()\n",
    "\n",
    "(x_train, t_train), (x_test, t_test) = load_mnist(flatten=True, normalize=False)\n",
    "img = x_train[0]\n",
    "label = t_train[0]\n",
    "\n",
    "print(label)        # 5\n",
    "print(img.shape)    # (784,)\n",
    "img = img.reshape(28, 28)  # 把图像的形状变成原来的尺寸\n",
    "print(img.shape)    # (28, 28)\n",
    "\n",
    "img_show(img)    # 会打开第三方应用查看图片"
   ]
  },
  {
   "cell_type": "code",
   "execution_count": 5,
   "id": "f95e3cb1-39da-4df0-99a8-104cefcc35f7",
   "metadata": {},
   "outputs": [
    {
     "data": {
      "image/png": "[encoded data removed]",
      "text/plain": [
       "<Figure size 640x480 with 1 Axes>"
      ]
     },
     "metadata": {},
     "output_type": "display_data"
    },
    {
     "name": "stdout",
     "output_type": "stream",
     "text": [
      "标签: 5\n",
      "图像形状: (28, 28)\n"
     ]
    }
   ],
   "source": [
    "# Plot第一张图像\n",
    "img = x_train[0].reshape(28, 28)\n",
    "label = t_train[0]\n",
    "\n",
    "plt.imshow(img, cmap='gray')\n",
    "plt.title(f'Label: {label}')\n",
    "plt.axis('off')  # 不显示坐标轴\n",
    "plt.show()\n",
    "\n",
    "print(f\"标签: {label}\")\n",
    "print(f\"图像形状: {img.shape}\")"
   ]
  },
  {
   "cell_type": "markdown",
   "id": "bc0e7f96-7761-43e1-aeef-363a6975e5ca",
   "metadata": {},
   "source": [
    "### 3.6.2 神经网络的推理处理"
   ]
  },
  {
   "cell_type": "code",
   "execution_count": 6,
   "id": "402a7dbf-6b6c-48da-89fe-70361c91f9ac",
   "metadata": {},
   "outputs": [],
   "source": [
    "def sigmoid(x):\n",
    "    return 1 / (1 + np.exp(-x))\n",
    "\n",
    "def softmax(a):\n",
    "    c = np.max(a)\n",
    "    exp_a = np.exp(a - c)\n",
    "    sum_exp_a = np.sum(exp_a)\n",
    "    y = exp_a / sum_exp_a\n",
    "    return y"
   ]
  },
  {
   "cell_type": "code",
   "execution_count": 7,
   "id": "7e16257c-b1d6-4ad3-af0d-d9cd87e8fe25",
   "metadata": {},
   "outputs": [],
   "source": [
    "def get_data():\n",
    "    (x_train, t_train), (x_test, t_test) = load_mnist(normalize=True, flatten=True, one_hot_label=False)\n",
    "    return x_test, t_test\n",
    "\n",
    "def init_network():\n",
    "    with open('dataset/sample_weight.pkl', 'rb') as f:\n",
    "        network = pickle.load(f)\n",
    "    return network\n",
    "\n",
    "def predict(network, x):\n",
    "    W1, W2, W3 = network['W1'], network['W2'], network['W3']\n",
    "    b1, b2, b3 = network['b1'], network['b2'], network['b3']\n",
    "\n",
    "    a1 = np.dot(x, W1) + b1\n",
    "    z1 = sigmoid(a1)\n",
    "    a2 = np.dot(z1, W2) + b2\n",
    "    z2 = sigmoid(a2)\n",
    "    a3 = np.dot(z2, W3) + b3\n",
    "    y = softmax(a3)\n",
    "    return y"
   ]
  },
  {
   "cell_type": "code",
   "execution_count": 8,
   "id": "5d843be7-28cd-4884-ba52-66139cb55e31",
   "metadata": {},
   "outputs": [
    {
     "name": "stdout",
     "output_type": "stream",
     "text": [
      "Accuracy: 93.52%\n"
     ]
    }
   ],
   "source": [
    "# 利用测试数据预测准确度\n",
    "x, t = get_data()\n",
    "network = init_network()\n",
    "\n",
    "accuracy_cnt = 0\n",
    "for i in range(len(x)):\n",
    "    y = predict(network, x[i])\n",
    "    pos = np.argmax(y)\n",
    "    if pos == t[i]:\n",
    "        accuracy_cnt += 1\n",
    "\n",
    "print(f'Accuracy: {accuracy_cnt / len(x):.2%}')"
   ]
  },
  {
   "cell_type": "code",
   "execution_count": 9,
   "id": "f9bade17-27dd-4e1a-bf14-0c33e364dee0",
   "metadata": {},
   "outputs": [
    {
     "name": "stdout",
     "output_type": "stream",
     "text": [
      "(10000, 784)\n",
      "(784, 50)\n",
      "(50, 100)\n",
      "(100, 10)\n",
      "(50,)\n",
      "(100,)\n",
      "(10,)\n"
     ]
    }
   ],
   "source": [
    "# 查看测试数据x 和神经网络参数的信息\n",
    "print(x.shape)\n",
    "print(network['W1'].shape)\n",
    "print(network['W2'].shape)\n",
    "print(network['W3'].shape)\n",
    "print(network['b1'].shape)\n",
    "print(network['b2'].shape)\n",
    "print(network['b3'].shape)"
   ]
  },
  {
   "cell_type": "code",
   "execution_count": 10,
   "id": "ff22f106-70f8-48e7-b214-d4e430968815",
   "metadata": {},
   "outputs": [
    {
     "name": "stdout",
     "output_type": "stream",
     "text": [
      "[8.4412408e-05 2.6350631e-06 7.1549317e-04 1.2586251e-03 1.1727932e-06\n",
      " 4.4990808e-05 1.6269318e-08 9.9706501e-01 9.3744620e-06 8.1831042e-04]\n",
      "0.997065\n",
      "7\n",
      "7\n"
     ]
    }
   ],
   "source": [
    "# 查看神经网络预测第一条测试数据的输出结果，以及对应的标签信息\n",
    "y = predict(network, x[0])\n",
    "print(y)\n",
    "print(np.max(y))\n",
    "print(np.argmax(y))\n",
    "print(t[0])"
   ]
  },
  {
   "cell_type": "code",
   "execution_count": 19,
   "id": "92095774-4b0e-4417-ba83-cc75325768d5",
   "metadata": {},
   "outputs": [
    {
     "name": "stdout",
     "output_type": "stream",
     "text": [
      "矩阵A形状: (3, 4)\n",
      "矩阵B形状: (4, 5)\n",
      "乘积结果形状: (3, 5)\n"
     ]
    },
    {
     "data": {
      "text/plain": [
       "array([[0.46329175, 1.13675541, 0.84376044, 0.44877626, 1.33521286],\n",
       "       [0.27316607, 0.72499878, 0.72451333, 0.34556468, 1.07053419],\n",
       "       [0.38192778, 1.14255298, 0.88564183, 0.60164085, 1.54165497]])"
      ]
     },
     "execution_count": 19,
     "metadata": {},
     "output_type": "execute_result"
    }
   ],
   "source": [
    "# 创建示例矩阵\n",
    "A = np.random.rand(3, 4)  # 3x4矩阵\n",
    "B = np.random.rand(4, 5)  # 4x5矩阵\n",
    "\n",
    "print(\"矩阵A形状:\", A.shape)\n",
    "print(\"矩阵B形状:\", B.shape)\n",
    "\n",
    "# 矩阵乘法\n",
    "C = np.dot(A, B)  # 或者 A @ B\n",
    "print(\"乘积结果形状:\", C.shape)  # 输出: (3, 5)\n",
    "C"
   ]
  },
  {
   "cell_type": "markdown",
   "id": "ac3ee075-b2a1-4267-bb86-9743c0a319be",
   "metadata": {},
   "source": [
    "### 3.6.3 批处理\n",
    "批处理一次性计算**大型数组**要比分开逐步计算**各个小型数组**速度更快"
   ]
  },
  {
   "cell_type": "code",
   "execution_count": 30,
   "id": "092581be-319b-445f-bdf4-7f8a7feaeb59",
   "metadata": {},
   "outputs": [
    {
     "name": "stdout",
     "output_type": "stream",
     "text": [
      "2\n",
      "(4, 3)\n",
      "[0.8 0.8 0.6]\n",
      "[0.8 0.6 0.5 0.8]\n",
      "[3 0 1]\n",
      "[1 2 1 0]\n",
      "4.0\n",
      "[1.4 1.5 1.1]\n",
      "[1. 1. 1. 1.]\n"
     ]
    }
   ],
   "source": [
    "# 理解axis=0 和 1的不同处理方式\n",
    "# axis=0 按行操作，比较不同行里 相同列的数据 - 跨样本操作\n",
    "# axis=1 按列操作，比较同一行里 不同列的数据 - 单个样本内部操作\n",
    "x = np.array([[0.1, 0.8, 0.1], [0.3, 0.1, 0.6], [0.2, 0.5, 0.3], [0.8, 0.1, 0.1]])\n",
    "print(x.ndim)\n",
    "print(x.shape)\n",
    "print(np.max(x, axis=0))\n",
    "print(np.max(x, axis=1))\n",
    "print(np.argmax(x, axis=0))\n",
    "print(np.argmax(x, axis=1))\n",
    "print(np.sum(x))\n",
    "print(np.sum(x, axis=0))\n",
    "print(np.sum(x, axis=1))"
   ]
  },
  {
   "cell_type": "code",
   "execution_count": 31,
   "id": "76a7176d-dcbc-4863-bd00-b5632e20b0d3",
   "metadata": {},
   "outputs": [
    {
     "name": "stdout",
     "output_type": "stream",
     "text": [
      "[ True  True False  True]\n"
     ]
    },
    {
     "data": {
      "text/plain": [
       "np.int64(3)"
      ]
     },
     "execution_count": 31,
     "metadata": {},
     "output_type": "execute_result"
    }
   ],
   "source": [
    "# 理解Numpy数组比较方式\n",
    "y = np.array([1, 2, 1, 0])\n",
    "t = np.array([1, 2, 0, 0])\n",
    "print(y==t)\n",
    "np.sum(y==t)"
   ]
  },
  {
   "cell_type": "code",
   "execution_count": 28,
   "id": "750fbd9a-f2ed-420d-b6b0-0ce5743cea2f",
   "metadata": {},
   "outputs": [
    {
     "name": "stdout",
     "output_type": "stream",
     "text": [
      "Accuracy: 93.52%\n"
     ]
    }
   ],
   "source": [
    "# 利用测试数据预测准确度\n",
    "x, t = get_data()\n",
    "network = init_network()\n",
    "\n",
    "batch_size = 100\n",
    "accuracy_cnt = 0\n",
    "for i in range(0, len(x), batch_size):\n",
    "    x_batch = x[i:i+batch_size]\n",
    "    y_batch = predict(network, x_batch)\n",
    "    pos = np.argmax(y_batch, axis=1)\n",
    "    accuracy_cnt += np.sum(pos == t[i:i+batch_size])\n",
    "\n",
    "print(f'Accuracy: {accuracy_cnt / len(x):.2%}')"
   ]
  },
  {
   "cell_type": "code",
   "execution_count": null,
   "id": "e63e8436-6019-4099-a4e3-5defe59b0652",
   "metadata": {},
   "outputs": [],
   "source": []
  },
  {
   "cell_type": "code",
   "execution_count": null,
   "id": "96629799-fc86-4efb-8d7b-58f766f44179",
   "metadata": {},
   "outputs": [],
   "source": []
  }
 ],
 "metadata": {
  "kernelspec": {
   "display_name": "Python 3 (ipykernel)",
   "language": "python",
   "name": "python3"
  },
  "language_info": {
   "codemirror_mode": {
    "name": "ipython",
    "version": 3
   },
   "file_extension": ".py",
   "mimetype": "text/x-python",
   "name": "python",
   "nbconvert_exporter": "python",
   "pygments_lexer": "ipython3",
   "version": "3.13.5"
  }
 },
 "nbformat": 4,
 "nbformat_minor": 5
}
