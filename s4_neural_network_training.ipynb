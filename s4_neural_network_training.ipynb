{
 "cells": [
  {
   "cell_type": "markdown",
   "id": "e1cafd69-9766-4ff7-9afa-8bff15b35031",
   "metadata": {},
   "source": [
    "## 第四章 神经网络的学习"
   ]
  },
  {
   "cell_type": "markdown",
   "id": "c16b4244-63eb-40ce-98e2-3dabd2e480f4",
   "metadata": {},
   "source": [
    "### 4.2 损失函数 loss function"
   ]
  },
  {
   "cell_type": "code",
   "execution_count": 1,
   "id": "bf2f240a-f64a-47ac-8ffc-519785b591a5",
   "metadata": {},
   "outputs": [],
   "source": [
    "import numpy as np\n",
    "import matplotlib.pyplot as plt\n",
    "from dataset.mnist import load_mnist"
   ]
  },
  {
   "cell_type": "markdown",
   "id": "7cc69b1d-afb7-4d07-bece-17a9db9dfbd5",
   "metadata": {},
   "source": [
    "#### 4.2.1 均方误差法 Mean Squared Error - MSE"
   ]
  },
  {
   "cell_type": "code",
   "execution_count": 2,
   "id": "9f147d39-a840-47f1-9080-0f7add0a1c1f",
   "metadata": {},
   "outputs": [],
   "source": [
    "def mean_squared_error(y, t):\n",
    "    return 0.5 * np.sum((y - t)**2)"
   ]
  },
  {
   "cell_type": "code",
   "execution_count": 3,
   "id": "3b5fa95d-a53b-407a-bdea-cbaba985d0cf",
   "metadata": {},
   "outputs": [
    {
     "name": "stdout",
     "output_type": "stream",
     "text": [
      "0.09750000000000003\n"
     ]
    }
   ],
   "source": [
    "t = [0, 0, 1, 0, 0, 0, 0, 0, 0, 0]\n",
    "t_label = [2]\n",
    "y = [0.1, 0.05, 0.6, 0.0, 0.05, 0.1, 0.0, 0.1, 0.0, 0.0]\n",
    "\n",
    "mse = mean_squared_error(np.array(y), np.array(t))\n",
    "print(mse)"
   ]
  },
  {
   "cell_type": "code",
   "execution_count": 4,
   "id": "2cd6d394-5f09-4d8b-8901-1a3df28c7131",
   "metadata": {},
   "outputs": [
    {
     "name": "stdout",
     "output_type": "stream",
     "text": [
      "0.5975\n"
     ]
    }
   ],
   "source": [
    "y2 = [0.1, 0.05, 0.1, 0.0, 0.05, 0.1, 0.0, 0.6, 0.0, 0.0]\n",
    "\n",
    "mse = mean_squared_error(np.array(y2), np.array(t))\n",
    "print(mse)"
   ]
  },
  {
   "cell_type": "markdown",
   "id": "68e5af11-198f-4a84-9f21-d424fe78ac3c",
   "metadata": {},
   "source": [
    "#### 4.2.2 交叉熵误差 （ cross entropy error ）"
   ]
  },
  {
   "cell_type": "code",
   "execution_count": 5,
   "id": "0c0b6f53-0609-45a1-86e3-26e3e7cd341b",
   "metadata": {},
   "outputs": [],
   "source": [
    "def cross_entropy_error(y, t):\n",
    "    delta = 1e-7\n",
    "    return -np.sum(t * np.log(y + delta))"
   ]
  },
  {
   "cell_type": "code",
   "execution_count": 6,
   "id": "d110c1ca-1b53-4352-bd21-adeeb9e98e89",
   "metadata": {},
   "outputs": [
    {
     "name": "stdout",
     "output_type": "stream",
     "text": [
      "2.3025850929940455\n",
      "0.6931471805599453\n",
      "0.10536051565782628\n"
     ]
    }
   ],
   "source": [
    "print(-np.log(0.1))\n",
    "print(-np.log(0.5))\n",
    "print(-np.log(0.9))"
   ]
  },
  {
   "cell_type": "code",
   "execution_count": 7,
   "id": "2419d47f-99ed-43bb-b4a0-787cd362c750",
   "metadata": {},
   "outputs": [
    {
     "name": "stdout",
     "output_type": "stream",
     "text": [
      "0.510825457099338\n",
      "2.302584092994546\n"
     ]
    }
   ],
   "source": [
    "print(cross_entropy_error(np.array(y), np.array(t)))\n",
    "print(cross_entropy_error(np.array(y2), np.array(t)))"
   ]
  },
  {
   "cell_type": "markdown",
   "id": "bcc15ec5-f573-4efa-94ce-417b5ded308a",
   "metadata": {},
   "source": [
    "#### 4.2.3 mini-batch 学习"
   ]
  },
  {
   "cell_type": "code",
   "execution_count": 8,
   "id": "e62f4aa8-1814-45fb-80bb-ec6c25e384ab",
   "metadata": {},
   "outputs": [
    {
     "name": "stdout",
     "output_type": "stream",
     "text": [
      "(60000, 784)\n",
      "(60000, 10)\n"
     ]
    }
   ],
   "source": [
    "(x_train, t_train), (x_test, t_test) = load_mnist(normalize=True, one_hot_label=True)\n",
    "print(x_train.shape)\n",
    "print(t_train.shape)"
   ]
  },
  {
   "cell_type": "code",
   "execution_count": 9,
   "id": "ce3a02d8-6786-410c-9ec6-bed1f67218ce",
   "metadata": {},
   "outputs": [
    {
     "name": "stdout",
     "output_type": "stream",
     "text": [
      "[19374 28227 35831 35894 11456 41297 57867 32726 31836 21526]\n",
      "[[0. 0. 0. ... 0. 0. 0.]\n",
      " [0. 0. 0. ... 0. 0. 0.]\n",
      " [0. 0. 0. ... 0. 0. 0.]\n",
      " ...\n",
      " [0. 0. 0. ... 0. 0. 0.]\n",
      " [0. 0. 0. ... 0. 0. 0.]\n",
      " [0. 0. 0. ... 0. 0. 0.]]\n",
      "[[0. 0. 0. 0. 0. 1. 0. 0. 0. 0.]\n",
      " [0. 0. 0. 0. 1. 0. 0. 0. 0. 0.]\n",
      " [0. 1. 0. 0. 0. 0. 0. 0. 0. 0.]\n",
      " [0. 0. 0. 0. 0. 0. 0. 0. 0. 1.]\n",
      " [0. 0. 0. 0. 0. 1. 0. 0. 0. 0.]\n",
      " [0. 0. 0. 0. 0. 0. 0. 1. 0. 0.]\n",
      " [0. 0. 0. 0. 0. 0. 0. 1. 0. 0.]\n",
      " [0. 0. 1. 0. 0. 0. 0. 0. 0. 0.]\n",
      " [1. 0. 0. 0. 0. 0. 0. 0. 0. 0.]\n",
      " [1. 0. 0. 0. 0. 0. 0. 0. 0. 0.]]\n"
     ]
    }
   ],
   "source": [
    "train_size = x_train.shape[0]\n",
    "batch_size = 10\n",
    "batch_mask = np.random.choice(train_size, batch_size)\n",
    "x_batch = x_train[batch_mask]\n",
    "t_batch = t_train[batch_mask]\n",
    "\n",
    "print(batch_mask)\n",
    "print(x_batch)\n",
    "print(t_batch)"
   ]
  },
  {
   "cell_type": "markdown",
   "id": "448eca95-c030-4b82-903b-a716af3f2d72",
   "metadata": {},
   "source": [
    "#### 4.2.4 mini-batch 版交叉熵误差的实现"
   ]
  },
  {
   "cell_type": "code",
   "execution_count": 10,
   "id": "ba6025ec-a1e2-4def-8cd0-b727524aad26",
   "metadata": {},
   "outputs": [],
   "source": [
    "def cross_entropy_error_one_hot(y, t):\n",
    "    if y.ndim == 1:\n",
    "        t = t.reshape(1, t.size)\n",
    "        y = y.reshape(1, y.size)\n",
    "\n",
    "    batch_size = y.shape[0]\n",
    "    return -np.sum(t * np.log(y + 1e-7)) / batch_size"
   ]
  },
  {
   "cell_type": "code",
   "execution_count": 11,
   "id": "39e3f981-7c15-4d49-98da-911e5432fd2a",
   "metadata": {},
   "outputs": [
    {
     "data": {
      "text/plain": [
       "np.float64(0.510825457099338)"
      ]
     },
     "execution_count": 11,
     "metadata": {},
     "output_type": "execute_result"
    }
   ],
   "source": [
    "cross_entropy_error_one_hot(np.array(y), np.array(t))"
   ]
  },
  {
   "cell_type": "code",
   "execution_count": 12,
   "id": "8d20c841-821b-4e7f-9691-da9efab7fabb",
   "metadata": {},
   "outputs": [],
   "source": [
    "def cross_entropy_error_label(y, t):\n",
    "    if y.ndim == 1:\n",
    "        t = t.reshape(1, t.size)\n",
    "        y = y.reshape(1, y.size)\n",
    "\n",
    "    batch_size = y.shape[0]\n",
    "    return -np.sum(np.log(y[np.arange(batch_size), t] + 1e-7)) / batch_size"
   ]
  },
  {
   "cell_type": "code",
   "execution_count": 13,
   "id": "7ce14c6e-0c52-49f0-a584-024f1f21fdcf",
   "metadata": {},
   "outputs": [
    {
     "data": {
      "text/plain": [
       "np.float64(0.510825457099338)"
      ]
     },
     "execution_count": 13,
     "metadata": {},
     "output_type": "execute_result"
    }
   ],
   "source": [
    "cross_entropy_error_label(np.array(y), np.array(t_label))"
   ]
  },
  {
   "cell_type": "markdown",
   "id": "ecb13296-aa20-49fe-b2c3-6398eeacee14",
   "metadata": {},
   "source": [
    "##### !!解释上面最后一行代码：监督数据是标签形式（非 one-hot 表示，而是像“2”“7”这样的标签）"
   ]
  },
  {
   "cell_type": "code",
   "execution_count": 14,
   "id": "ef6bd46e-8bac-4548-8f24-2a51b69f5a9a",
   "metadata": {},
   "outputs": [
    {
     "name": "stdout",
     "output_type": "stream",
     "text": [
      "样本索引: [0 1 2]\n",
      "真实标签: [2 0 3]\n",
      "选中的概率: [0.6 0.7 0.5]\n",
      "0.5202157462469678\n",
      "0.5202157462469678\n"
     ]
    }
   ],
   "source": [
    "# 首先强调下，这是numpy数组的专属操作，普通列表[[1,2], [3,4], ...]无法如此操作\n",
    "yy = np.array([\n",
    "    [0.1, 0.2, 0.6, 0.05, 0.05],  # 对类别2预测概率0.6\n",
    "    [0.7, 0.1, 0.1, 0.05, 0.05],  # 对类别0预测概率0.7\n",
    "    [0.1, 0.1, 0.2, 0.5, 0.1]     # 对类别3预测概率0.5\n",
    "])\n",
    "t_one_hot = np.array([\n",
    "    [0, 0, 1, 0, 0],  # 标签2\n",
    "    [1, 0, 0, 0, 0],  # 标签0\n",
    "    [0, 0, 0, 1, 0]   # 标签3\n",
    "])\n",
    "t_labels = np.array([2, 0, 3])  # 同样的数据，用标签形式表示，直接存储正确类别的索引\n",
    "\n",
    "batch_size = yy.shape[0]\n",
    "indices = np.arange(batch_size)  # [0, 1, 2]\n",
    "print(\"样本索引:\", indices)      # [0, 1, 2]\n",
    "print(\"真实标签:\", t_labels)     # [2, 0, 3]\n",
    "\n",
    "selected_probs = yy[indices, t_labels]\n",
    "print(\"选中的概率:\", selected_probs)  # [0.6, 0.7, 0.5]\n",
    "# 相当于：\n",
    "# y[0, 2] → 第0个样本，第2个类别的概率 = 0.6\n",
    "# y[1, 0] → 第1个样本，第0个类别的概率 = 0.7\n",
    "# y[2, 3] → 第2个样本，第3个类别的概率 = 0.5\n",
    "\n",
    "\n",
    "def cross_entropy_one_hot(y, t):\n",
    "    return -np.sum(t * np.log(y + 1e-7)) / len(t)\n",
    "\n",
    "\n",
    "def cross_entropy_label(y, t):\n",
    "    batch_size = y.shape[0]\n",
    "    return -np.sum(np.log(y[np.arange(batch_size), t] + 1e-7)) / batch_size\n",
    "\n",
    "\n",
    "result1 = cross_entropy_one_hot(yy, t_one_hot)\n",
    "result2 = cross_entropy_label(yy, t_labels)\n",
    "print(result1)      # 0.5202157462469678\n",
    "print(result2)      # 0.5202157462469678"
   ]
  },
  {
   "cell_type": "markdown",
   "id": "cc879835-26a2-463d-95cc-0a105a39c1d2",
   "metadata": {},
   "source": [
    "### 4.3 数值微分"
   ]
  },
  {
   "cell_type": "markdown",
   "id": "661ff87e-fb24-45c2-8277-b633e76bd586",
   "metadata": {},
   "source": [
    "#### 4.3.1 导数：表示的是某个瞬间的变化量"
   ]
  },
  {
   "cell_type": "code",
   "execution_count": 15,
   "id": "1ccdaf00-ef46-4116-bddd-ce4b15990383",
   "metadata": {},
   "outputs": [],
   "source": [
    "# 向前差分\n",
    "def numerical_diff_forward(f, x):\n",
    "    h = 1e-4\n",
    "    return (f(x+h) - f(x)) / h\n",
    "\n",
    "# 中心差分\n",
    "def numerical_diff(f, x):\n",
    "    h = 1e-4\n",
    "    return (f(x+h) - f(x-h)) / (2*h)"
   ]
  },
  {
   "cell_type": "code",
   "execution_count": 16,
   "id": "2d249df2-549b-4a7a-ac2f-74c728c68eac",
   "metadata": {},
   "outputs": [],
   "source": [
    "# 例子函数\n",
    "def function_1(x):\n",
    "    return 0.01 * x**2 + 0.1 * x"
   ]
  },
  {
   "cell_type": "code",
   "execution_count": 17,
   "id": "af7d067e-1ae6-414d-9a7a-1d1daa04f782",
   "metadata": {},
   "outputs": [
    {
     "data": {
      "image/png": "[encoded data removed]",
      "text/plain": [
       "<Figure size 640x480 with 1 Axes>"
      ]
     },
     "metadata": {},
     "output_type": "display_data"
    }
   ],
   "source": [
    "# 画出函数图像\n",
    "x = np.arange(0, 20, 0.1)\n",
    "y = function_1(x)\n",
    "plt.xlabel('x')\n",
    "plt.ylabel('f(x)')\n",
    "plt.plot(x, y)\n",
    "plt.grid(True, linestyle='--', alpha=0.5)\n",
    "plt.show()"
   ]
  },
  {
   "cell_type": "code",
   "execution_count": 18,
   "id": "7f9b75cf-7d60-44e1-bb04-fce5911d67ff",
   "metadata": {},
   "outputs": [
    {
     "name": "stdout",
     "output_type": "stream",
     "text": [
      "0.1999999999990898\n",
      "0.2999999999986347\n"
     ]
    }
   ],
   "source": [
    "# 求导\n",
    "print(numerical_diff(function_1, 5))\n",
    "print(numerical_diff(function_1, 10))"
   ]
  },
  {
   "cell_type": "code",
   "execution_count": 19,
   "id": "380492c9-323d-4c98-9a54-683e72d31663",
   "metadata": {},
   "outputs": [
    {
     "name": "stdout",
     "output_type": "stream",
     "text": [
      "求f(x)在x=5处导数的值：0.1999999999990898\n",
      "求f(x)在x=10处导数的值：0.2999999999986347\n"
     ]
    },
    {
     "data": {
      "image/png": "[encoded data removed]",
      "text/plain": [
       "<Figure size 640x480 with 1 Axes>"
      ]
     },
     "metadata": {},
     "output_type": "display_data"
    }
   ],
   "source": [
    "# x = 5, x = 10 处的切线：直线的斜率使用数值微分的值\n",
    "def tangent_line(f, x):\n",
    "    d = numerical_diff(f, x)\n",
    "    print(f'求f(x)在x={x}处导数的值：{d}')\n",
    "    y = f(x) - d*x\n",
    "    return lambda t: d*t + y\n",
    "     \n",
    "x = np.arange(0.0, 20.0, 0.1)\n",
    "y = function_1(x)\n",
    "plt.xlabel(\"x\")\n",
    "plt.ylabel(\"f(x)\")\n",
    "\n",
    "tf = tangent_line(function_1, 5)\n",
    "y2 = tf(x)\n",
    "\n",
    "tf = tangent_line(function_1, 10)\n",
    "y3 = tf(x)\n",
    "\n",
    "plt.plot(x, y)\n",
    "plt.plot(x, y2)\n",
    "plt.plot(x, y3)\n",
    "plt.grid(True, linestyle='--', alpha=0.5)\n",
    "plt.show()"
   ]
  },
  {
   "cell_type": "markdown",
   "id": "de97fb7f-5131-4902-a594-c85a4fe6ae0a",
   "metadata": {},
   "source": [
    "#### 4.3.3 偏导数：有多个变量的函数的导数"
   ]
  },
  {
   "cell_type": "code",
   "execution_count": 22,
   "id": "3b9fcfd0-9d1f-4008-a589-7f841559e9e6",
   "metadata": {},
   "outputs": [
    {
     "name": "stdout",
     "output_type": "stream",
     "text": [
      "6.00000000000378\n",
      "7.999999999999119\n"
     ]
    }
   ],
   "source": [
    "# y = a**2 + b**2\n",
    "def function_2(x):\n",
    "    return x[0]**2 + x[1]**2\n",
    "    # return np.sum(x**2)\n",
    "\n",
    "# x[0] = 3, x[1] = 4, 关于x[0]的偏导数\n",
    "def function_tmp1(x0):\n",
    "    return x0**2 + 4**2\n",
    "\n",
    "# x[0] = 3, x[1] = 4, 关于x[1]的偏导数\n",
    "def function_tmp2(x1):\n",
    "    return 3**2 + x1**2\n",
    "\n",
    "print(numerical_diff(function_tmp1, 3))\n",
    "print(numerical_diff(function_tmp2, 4))"
   ]
  },
  {
   "cell_type": "markdown",
   "id": "06b97951-63d3-4c46-b14d-dacbdc2f2aa4",
   "metadata": {},
   "source": [
    "### 4.4 梯度 Gradient: 由全部变量的偏导数汇总而成的向量(dy/dx0, dy/dx1,...)"
   ]
  },
  {
   "cell_type": "code",
   "execution_count": null,
   "id": "97fac933-af1c-42ed-95d4-4b1e0a7c8642",
   "metadata": {},
   "outputs": [],
   "source": []
  }
 ],
 "metadata": {
  "kernelspec": {
   "display_name": "Python 3 (ipykernel)",
   "language": "python",
   "name": "python3"
  },
  "language_info": {
   "codemirror_mode": {
    "name": "ipython",
    "version": 3
   },
   "file_extension": ".py",
   "mimetype": "text/x-python",
   "name": "python",
   "nbconvert_exporter": "python",
   "pygments_lexer": "ipython3",
   "version": "3.13.5"
  }
 },
 "nbformat": 4,
 "nbformat_minor": 5
}
