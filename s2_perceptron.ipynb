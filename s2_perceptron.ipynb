{
 "cells": [
  {
   "cell_type": "code",
   "execution_count": 4,
   "id": "1d2d30d0-6cdf-4ffa-ad79-d635055fddce",
   "metadata": {},
   "outputs": [],
   "source": [
    "def AND(x1, x2):\n",
    "    w1, w2, theta = 0.5, 0.5, 0.7\n",
    "    tmp = w1*x1 + w2*x2\n",
    "    if tmp <= theta:\n",
    "        return 0\n",
    "    else:\n",
    "        return 1"
   ]
  },
  {
   "cell_type": "code",
   "execution_count": 5,
   "id": "697c9b19-8b21-4c45-9fed-2b2f3e795d53",
   "metadata": {},
   "outputs": [
    {
     "name": "stdout",
     "output_type": "stream",
     "text": [
      "0\n",
      "0\n",
      "0\n",
      "1\n"
     ]
    }
   ],
   "source": [
    "print(AND(0, 0)) # 输出 0\n",
    "print(AND(1, 0)) # 输出 0\n",
    "print(AND(0, 1)) # 输出 0\n",
    "print(AND(1, 1)) # 输出 1"
   ]
  },
  {
   "cell_type": "code",
   "execution_count": 6,
   "id": "366956f2-8e34-4851-8700-d9412dde1ff5",
   "metadata": {},
   "outputs": [],
   "source": [
    "def OR(x1, x2):\n",
    "    w1, w2, theta = 0.5, 0.5, 0.2\n",
    "    tmp = w1*x1 + w2*x2\n",
    "    if tmp <= theta:\n",
    "        return 0\n",
    "    else:\n",
    "        return 1"
   ]
  },
  {
   "cell_type": "code",
   "execution_count": 8,
   "id": "988cc7c0-f093-41de-9743-f32d5da1c77a",
   "metadata": {},
   "outputs": [
    {
     "name": "stdout",
     "output_type": "stream",
     "text": [
      "0\n",
      "1\n",
      "1\n",
      "1\n"
     ]
    }
   ],
   "source": [
    "print(OR(0, 0)) # 输出 0\n",
    "print(OR(1, 0)) # 输出 1\n",
    "print(OR(0, 1)) # 输出 1\n",
    "print(OR(1, 1)) # 输出 1"
   ]
  },
  {
   "cell_type": "code",
   "execution_count": 3,
   "id": "87632691-da01-4a7f-bd6c-a7273abb9926",
   "metadata": {},
   "outputs": [],
   "source": [
    "import numpy as np\n",
    "\n",
    "def AND(x1, x2):\n",
    "    x = np.array([x1, x2])\n",
    "    w = np.array([0.5, 0.5])\n",
    "    b = -0.7\n",
    "    tmp = np.sum(w * x) + b\n",
    "    if tmp <= 0:\n",
    "        return 0\n",
    "    else:\n",
    "        return 1"
   ]
  },
  {
   "cell_type": "code",
   "execution_count": 4,
   "id": "e9de156e-6c33-4bc7-83a1-a45702c83e60",
   "metadata": {},
   "outputs": [
    {
     "name": "stdout",
     "output_type": "stream",
     "text": [
      "0\n",
      "0\n",
      "0\n",
      "1\n"
     ]
    }
   ],
   "source": [
    "print(AND(0, 0)) # 输出 0\n",
    "print(AND(1, 0)) # 输出 0\n",
    "print(AND(0, 1)) # 输出 0\n",
    "print(AND(1, 1)) # 输出 1"
   ]
  },
  {
   "cell_type": "code",
   "execution_count": 24,
   "id": "c87bfe04-c451-49cf-864c-c2092409d4e5",
   "metadata": {},
   "outputs": [],
   "source": [
    "def NAND(x1, x2):\n",
    "    x = np.array([x1, x2])\n",
    "    w = np.array([-0.5, -0.5])\n",
    "    b = 0.7\n",
    "    tmp = np.sum(w * x) + b\n",
    "    if tmp <= 0:\n",
    "        return 0\n",
    "    else:\n",
    "        return 1"
   ]
  },
  {
   "cell_type": "code",
   "execution_count": 25,
   "id": "af8176bd-e002-4301-9cca-a9d752ffafc2",
   "metadata": {},
   "outputs": [
    {
     "name": "stdout",
     "output_type": "stream",
     "text": [
      "1\n",
      "1\n",
      "1\n",
      "0\n"
     ]
    }
   ],
   "source": [
    "print(NAND(0, 0)) # 输出 1\n",
    "print(NAND(1, 0)) # 输出 1\n",
    "print(NAND(0, 1)) # 输出 1\n",
    "print(NAND(1, 1)) # 输出 0"
   ]
  },
  {
   "cell_type": "code",
   "execution_count": 5,
   "id": "02012180-9b77-4e37-834f-ef11941d340d",
   "metadata": {},
   "outputs": [],
   "source": [
    "def OR(x1, x2):\n",
    "    x = np.array([x1, x2])\n",
    "    w = np.array([0.5, 0.5])\n",
    "    b = -0.3\n",
    "    tmp = np.sum(w * x) + b\n",
    "    print(tmp)\n",
    "    if tmp <= 0:\n",
    "        return 0\n",
    "    else:\n",
    "        return 1"
   ]
  },
  {
   "cell_type": "code",
   "execution_count": 6,
   "id": "1b2fce21-1777-46f2-b47c-717a04d9968b",
   "metadata": {},
   "outputs": [
    {
     "name": "stdout",
     "output_type": "stream",
     "text": [
      "-0.3\n",
      "0\n",
      "0.2\n",
      "1\n",
      "0.2\n",
      "1\n",
      "0.7\n",
      "1\n"
     ]
    }
   ],
   "source": [
    "print(OR(0, 0)) # 输出 0\n",
    "print(OR(1, 0)) # 输出 1\n",
    "print(OR(0, 1)) # 输出 1\n",
    "print(OR(1, 1)) # 输出 1"
   ]
  },
  {
   "cell_type": "code",
   "execution_count": 30,
   "id": "de25ccbc-f07f-4da7-884e-9c08d212b529",
   "metadata": {},
   "outputs": [],
   "source": [
    "def XOR(x1, x2):\n",
    "    s1 = NAND(x1, x2)\n",
    "    s2 = OR(x1, x2)\n",
    "    y = AND(s1, s2)\n",
    "    return y"
   ]
  },
  {
   "cell_type": "code",
   "execution_count": 31,
   "id": "a9537601-037a-4338-a78d-64db0b90b2a3",
   "metadata": {},
   "outputs": [
    {
     "name": "stdout",
     "output_type": "stream",
     "text": [
      "0\n",
      "1\n",
      "1\n",
      "0\n"
     ]
    }
   ],
   "source": [
    "print(XOR(0, 0)) # 输出 0\n",
    "print(XOR(1, 0)) # 输出 1\n",
    "print(XOR(0, 1)) # 输出 1\n",
    "print(XOR(1, 1)) # 输出 0"
   ]
  },
  {
   "cell_type": "code",
   "execution_count": null,
   "id": "d1d548a4-c472-4ad8-a672-19e13725edf2",
   "metadata": {},
   "outputs": [],
   "source": []
  }
 ],
 "metadata": {
  "kernelspec": {
   "display_name": "Python 3 (ipykernel)",
   "language": "python",
   "name": "python3"
  },
  "language_info": {
   "codemirror_mode": {
    "name": "ipython",
    "version": 3
   },
   "file_extension": ".py",
   "mimetype": "text/x-python",
   "name": "python",
   "nbconvert_exporter": "python",
   "pygments_lexer": "ipython3",
   "version": "3.13.5"
  }
 },
 "nbformat": 4,
 "nbformat_minor": 5
}
